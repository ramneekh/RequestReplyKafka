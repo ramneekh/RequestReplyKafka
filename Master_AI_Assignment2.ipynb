{
  "nbformat": 4,
  "nbformat_minor": 0,
  "metadata": {
    "colab": {
      "provenance": [],
      "authorship_tag": "ABX9TyPif+xpfYV+T6fH9lMbttuT",
      "include_colab_link": true
    },
    "kernelspec": {
      "name": "python3",
      "display_name": "Python 3"
    },
    "language_info": {
      "name": "python"
    }
  },
  "cells": [
    {
      "cell_type": "markdown",
      "metadata": {
        "id": "view-in-github",
        "colab_type": "text"
      },
      "source": [
        "<a href=\"https://colab.research.google.com/github/ramneekh/RequestReplyKafka/blob/master/Master_AI_Assignment2.ipynb\" target=\"_parent\"><img src=\"https://colab.research.google.com/assets/colab-badge.svg\" alt=\"Open In Colab\"/></a>"
      ]
    },
    {
      "cell_type": "code",
      "execution_count": null,
      "metadata": {
        "colab": {
          "base_uri": "https://localhost:8080/"
        },
        "id": "szV9oTuVeOf_",
        "outputId": "0239192d-bb17-47d9-f165-5378c639beb1"
      },
      "outputs": [
        {
          "output_type": "stream",
          "name": "stdout",
          "text": [
            "Enter an integer: w\n",
            "The input is a string.\n"
          ]
        }
      ],
      "source": [
        "# 1. Even or Odd Checker\n",
        "try:\n",
        "  number = int(input(\"Enter an integer: \"))\n",
        "\n",
        "  if number % 2 == 0:\n",
        "    print(\"The number is even.\")\n",
        "  else:\n",
        "    print(\"The number is odd.\")\n",
        "except ValueError:\n",
        "  print(\"The input is a string.\")"
      ]
    },
    {
      "cell_type": "code",
      "source": [
        "#2. Grading System\n",
        "try:\n",
        "  marks = int(input(\"Enter student's marks (0-100): \"))\n",
        "\n",
        "  if 90 <= marks <= 100:\n",
        "    print(\"Grade: A\")\n",
        "  elif 80 <= marks <= 89:\n",
        "    print(\"Grade: B\")\n",
        "  elif 70 <= marks <= 79:\n",
        "    print(\"Grade: C\")\n",
        "  elif 60 <= marks <= 69:\n",
        "    print(\"Grade: D\")\n",
        "  elif 0 <= marks < 60:\n",
        "    print(\"Grade: F\")\n",
        "  else:\n",
        "    print(\"Invalid marks. Please enter a value between 0 and 100.\")\n",
        "except ValueError:\n",
        "  print(\"Invalid input. Please enter an integer for marks.\")"
      ],
      "metadata": {
        "id": "JAewFUWwfQPS"
      },
      "execution_count": null,
      "outputs": []
    },
    {
      "cell_type": "code",
      "source": [
        "# 3. Leap Year Checker\n",
        "try:\n",
        "  year = int(input(\"Enter a year: \"))\n",
        "\n",
        "  if (year % 4 == 0 and year % 100 != 0) or (year % 400 == 0):\n",
        "    print(f\"{year} is a leap year.\")\n",
        "  else:\n",
        "    print(f\"{year} is not a leap year.\")\n",
        "except ValueError:\n",
        "  print(\"Invalid input. Please enter an integer for the year.\")"
      ],
      "metadata": {
        "id": "QG-HpG6sfx6Z"
      },
      "execution_count": null,
      "outputs": []
    },
    {
      "cell_type": "code",
      "source": [
        "# 4. Sum of numbers from 1 to n\n",
        "try:\n",
        "  n = int(input(\"Enter a positive integer n: \"))\n",
        "  if n <= 0:\n",
        "    print(\"Please enter a positive integer.\")\n",
        "  else:\n",
        "    sum_of_numbers = 0\n",
        "    for i in range(1, n + 1):\n",
        "      sum_of_numbers += i\n",
        "    print(f\"The sum of numbers from 1 to {n} is: {sum_of_numbers}\")\n",
        "except ValueError:\n",
        "  print(\"Invalid input. Please enter an integer.\")\n"
      ],
      "metadata": {
        "colab": {
          "base_uri": "https://localhost:8080/"
        },
        "id": "C6Jm-iwDgFjM",
        "outputId": "23fcc685-be4f-4294-fdab-ea40b6d7322a"
      },
      "execution_count": null,
      "outputs": [
        {
          "output_type": "stream",
          "name": "stdout",
          "text": [
            "Enter a positive integer n: 3\n",
            "\"The sum of numbers from 1 to {n} is: {sum_of_numbers}\"\n"
          ]
        }
      ]
    },
    {
      "cell_type": "code",
      "source": [
        "# 5. Multiplication Table\n",
        "try:\n",
        "  num = int(input(\"Enter a number to print its multiplication table: \"))\n",
        "  print(f\"Multiplication table for {num}:\")\n",
        "  for i in range(1, 11):\n",
        "    print(f\"{num} x {i} = {num * i}\")\n",
        "except ValueError:\n",
        "  print(\"Invalid input. Please enter an integer.\")\n"
      ],
      "metadata": {
        "colab": {
          "base_uri": "https://localhost:8080/"
        },
        "collapsed": true,
        "id": "bus9RbjfgdFV",
        "outputId": "a99325c4-686f-43c0-a37a-d8723da2549c"
      },
      "execution_count": null,
      "outputs": [
        {
          "output_type": "stream",
          "name": "stdout",
          "text": [
            "Enter a number to print its multiplication table: 3\n",
            "Multiplication table for 3:\n",
            "3 x 1 = 3\n",
            "3 x 2 = 6\n",
            "3 x 3 = 9\n",
            "3 x 4 = 12\n",
            "3 x 5 = 15\n",
            "3 x 6 = 18\n",
            "3 x 7 = 21\n",
            "3 x 8 = 24\n",
            "3 x 9 = 27\n",
            "3 x 10 = 30\n"
          ]
        }
      ]
    },
    {
      "cell_type": "code",
      "source": [
        "# 6. Reverse a Number\n",
        "num_to_reverse = input(\"Enter a number to reverse: \")\n",
        "reversed_num = 0\n",
        "\n",
        "for digit in num_to_reverse[::-1]:\n",
        "  reversed_num =  reversed_num * 10 + int(digit)\n",
        "print(f\"reversed: {reversed_num}\")\n",
        "\n",
        "temp_num = num_to_reverse\n",
        "l = len(str(num_to_reverse))\n",
        "digit = \"\"\n",
        "for i in range(l):\n",
        "      digit =   num_to_reverse[i]+ \"\"+digit\n",
        "print(f\"The reverse of {num_to_reverse} is: {digit}\")\n"
      ],
      "metadata": {
        "colab": {
          "base_uri": "https://localhost:8080/"
        },
        "id": "HDmEj7Chi-4r",
        "outputId": "bb8e7c5e-4c15-4b87-ca82-cc0a6a88277e"
      },
      "execution_count": null,
      "outputs": [
        {
          "output_type": "stream",
          "name": "stdout",
          "text": [
            "Enter a number to reverse: 2345\n",
            "reversed: 5432\n",
            "The reverse of 2345 is: 5432\n"
          ]
        }
      ]
    },
    {
      "cell_type": "code",
      "source": [
        "#7. Fibonacci Series (first N terms)\n",
        "\n",
        "def fibonacci(n):\n",
        "  \"\"\"Prints the first N terms of the Fibonacci sequence.\"\"\"\n",
        "  a, b = 0, 1\n",
        "  count = 0\n",
        "  if n <= 0:\n",
        "    print(\"Please enter a positive integer.\")\n",
        "  elif n == 1:\n",
        "    print(\"Fibonacci sequence upto\", n, \":\")\n",
        "    print(a)\n",
        "  else:\n",
        "    print(\"Fibonacci sequence:\")\n",
        "    while count < n:\n",
        "      print(a)\n",
        "      nth = a + b\n",
        "      a = b\n",
        "      b = nth\n",
        "      count += 1\n",
        "\n",
        "try:\n",
        "  n_terms = int(input(\"Enter the number of terms for Fibonacci sequence: \"))\n",
        "  fibonacci(n_terms)\n",
        "except ValueError:\n",
        "  print(\"Invalid input. Please enter an integer.\")\n"
      ],
      "metadata": {
        "colab": {
          "base_uri": "https://localhost:8080/"
        },
        "id": "TJjvI2urlxCh",
        "outputId": "5a2ffefe-6bc5-4dc1-b55d-74bea840a0c5"
      },
      "execution_count": null,
      "outputs": [
        {
          "output_type": "stream",
          "name": "stdout",
          "text": [
            "Enter the number of terms for Fibonacci sequence: 3\n",
            "Fibonacci sequence:\n",
            "0\n",
            "1\n",
            "1\n"
          ]
        }
      ]
    },
    {
      "cell_type": "code",
      "source": [
        "#8. Factorial using Function\n",
        "\n",
        "def recursive_factorial(n):\n",
        "  if n == 0 or n == 1:\n",
        "    return 1\n",
        "  else:\n",
        "    return n * recursive_factorial(n - 1)\n",
        "\n",
        "num_for_factorial = int(input(\"Enter a non-negative integer to find its factorial: \"))\n",
        "print(f\"The factorial of {num_for_factorial} is: {recursive_factorial(num_for_factorial)}\")\n"
      ],
      "metadata": {
        "colab": {
          "base_uri": "https://localhost:8080/"
        },
        "id": "I1WcSEWT2hc1",
        "outputId": "2df4f555-1e68-4e97-fde1-85f33b5d9bc0"
      },
      "execution_count": null,
      "outputs": [
        {
          "output_type": "stream",
          "name": "stdout",
          "text": [
            "Enter a non-negative integer to find its factorial: 34\n",
            "The factorial of 34 is: 295232799039604140847618609643520000000\n"
          ]
        }
      ]
    },
    {
      "cell_type": "code",
      "source": [
        "#9 Fibonacci sequence. recursive\n",
        "def recursive_fibonacci(n):\n",
        "  if n <= 1:\n",
        "    return n\n",
        "  else:\n",
        "    return(recursive_fibonacci(n-1) + recursive_fibonacci(n-2))\n",
        "n_terms = int(input(\"Enter the number of terms for Fibonacci sequence: \"))\n",
        "\n",
        "print(\"Fibonacci sequence:\")\n",
        "for i in range(n_terms):\n",
        "  print(recursive_fibonacci(i))\n",
        "\n"
      ],
      "metadata": {
        "id": "i-LMQ0rl5Ubq"
      },
      "execution_count": null,
      "outputs": []
    }
  ]
}